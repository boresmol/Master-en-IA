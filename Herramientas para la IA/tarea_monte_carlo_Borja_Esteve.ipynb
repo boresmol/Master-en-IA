{
  "nbformat": 4,
  "nbformat_minor": 0,
  "metadata": {
    "colab": {
      "provenance": []
    },
    "kernelspec": {
      "name": "python3",
      "display_name": "Python 3"
    },
    "language_info": {
      "name": "python"
    }
  },
  "cells": [
    {
      "cell_type": "markdown",
      "source": [
        "# Tarea Simulación de Monte Carlo\n",
        "# Asignatura: Herramientas para la IA\n",
        "# Autor: Borja Esteve"
      ],
      "metadata": {
        "id": "ZSFxo_d3kToN"
      }
    },
    {
      "cell_type": "code",
      "source": [
        "import random\n",
        "\n",
        "def dados():\n",
        "  return random.randint(1,6) + random.randint(1,6)\n"
      ],
      "metadata": {
        "id": "cHdTD2EqhAhq"
      },
      "execution_count": 10,
      "outputs": []
    },
    {
      "cell_type": "code",
      "source": [
        "def simulacion_seven(num_simul):\n",
        "  gana_primera = 0\n",
        "  pierde = 0\n",
        "  gana = 0\n",
        "\n",
        "  for simulacion in range(num_simul):\n",
        "    primer_lanzamiento = dados()\n",
        "    punto = primer_lanzamiento\n",
        "\n",
        "    if primer_lanzamiento in [7,11]:\n",
        "      gana_primera += 1\n",
        "      gana +=1\n",
        "\n",
        "    elif primer_lanzamiento in [2,3,12]:\n",
        "      pierde +=1\n",
        "\n",
        "    else: #Si en el primer lanzamiento no cae en ninguno de los números anteriores, se sigue el juego\n",
        "\n",
        "      while True:\n",
        "        nuevo_lanzamiento = dados()\n",
        "        if nuevo_lanzamiento == punto:\n",
        "            gana += 1\n",
        "            break\n",
        "        elif nuevo_lanzamiento == 7:\n",
        "            pierde += 1\n",
        "            break\n",
        "\n",
        "  prob_gana_primera = gana_primera/num_simul\n",
        "  prob_pierde = pierde/num_simul\n",
        "  prob_gana =  gana/num_simul\n",
        "  dif_gana_pierde = abs(prob_gana - prob_pierde)\n",
        "\n",
        "  return prob_gana_primera,prob_pierde, prob_gana, dif_gana_pierde\n",
        "\n"
      ],
      "metadata": {
        "id": "myinSAxiL4Ff"
      },
      "execution_count": 11,
      "outputs": []
    },
    {
      "cell_type": "code",
      "source": [
        "num_simulaciones = 10000000\n",
        "\n",
        "prob_gana_primera, prob_pierde, prob_gana, dif_gana_pierde = simulacion_seven(num_simulaciones)\n",
        "\n",
        "print(f\"Probabilidad de ganar en la primera jugada: {prob_gana_primera:.4f}\")\n",
        "print(f\"Probabilidad de perder: {prob_pierde:.4f}\")\n",
        "print(f\"Probabilidad de ganar: {prob_gana:.4f}\")\n",
        "print(f\"Probabilidad equitativa de ganar frente a la banca: {dif_gana_pierde:.4f}\")"
      ],
      "metadata": {
        "colab": {
          "base_uri": "https://localhost:8080/"
        },
        "id": "MhQonUAvgKrF",
        "outputId": "2852c46d-3bde-457e-d557-22dc9f9d442d"
      },
      "execution_count": 16,
      "outputs": [
        {
          "output_type": "stream",
          "name": "stdout",
          "text": [
            "Probabilidad de ganar en la primera jugada: 0.2221\n",
            "Probabilidad de perder: 0.5069\n",
            "Probabilidad de ganar: 0.4931\n",
            "Probabilidad equitativa de ganar frente a la banca: 0.0138\n"
          ]
        }
      ]
    },
    {
      "cell_type": "markdown",
      "source": [
        "# Resultados\n",
        "\n",
        "De la simulación del juego seven eleven podemos extraer las siguientes conclusiones:\n",
        "\n",
        "\n",
        "\n",
        "1.   ***P(Ganar en la primera jugada)*** = 0.2224\n",
        "2.   Si el juego es equitativo puede verse como si la probabilidad de ganar y perder es la misma. Se observa que:\n",
        "\n",
        "> ***| P(ganar) - P(perder) | > 0***\n",
        "\n",
        "Por lo tanto podemos concluir que el juego no es equitativo, siendo la probabilidad de perder frente a la banca mayor que la de ganar\n",
        "\n"
      ],
      "metadata": {
        "id": "3evEiFJljCZh"
      }
    }
  ]
}
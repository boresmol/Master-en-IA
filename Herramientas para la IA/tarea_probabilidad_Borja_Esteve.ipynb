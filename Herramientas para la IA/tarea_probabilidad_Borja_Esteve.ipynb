{
  "nbformat": 4,
  "nbformat_minor": 0,
  "metadata": {
    "colab": {
      "provenance": []
    },
    "kernelspec": {
      "name": "python3",
      "display_name": "Python 3"
    },
    "language_info": {
      "name": "python"
    }
  },
  "cells": [
    {
      "cell_type": "markdown",
      "source": [
        "# Tarea Herramientas para la IA - Ejercicios de probabilidad\n",
        "## Borja Esteve Molner"
      ],
      "metadata": {
        "id": "JDl9Y4IFFNB3"
      }
    },
    {
      "cell_type": "code",
      "execution_count": 20,
      "metadata": {
        "colab": {
          "base_uri": "https://localhost:8080/"
        },
        "id": "1yNayv1D6tmU",
        "outputId": "3c3382db-5ce0-4fea-eb1e-b3f1948bd86e"
      },
      "outputs": [
        {
          "output_type": "stream",
          "name": "stdout",
          "text": [
            "Variables y tipos de variables:\n",
            "checking_balance: object\n",
            "months_loan_duration: int64\n",
            "credit_history: object\n",
            "purpose: object\n",
            "amount: int64\n",
            "savings_balance: object\n",
            "employment_length: object\n",
            "installment_rate: int64\n",
            "personal_status: object\n",
            "other_debtors: object\n",
            "residence_history: int64\n",
            "property: object\n",
            "age: int64\n",
            "installment_plan: object\n",
            "housing: object\n",
            "existing_credits: int64\n",
            "default: int64\n",
            "dependents: int64\n",
            "telephone: object\n",
            "foreign_worker: object\n",
            "job: object\n"
          ]
        }
      ],
      "source": [
        "import pandas as pd\n",
        "\n",
        "\n",
        "file_path = 'credit.csv'\n",
        "df = pd.read_csv(file_path)\n",
        "\n",
        "print(\"Variables y tipos de variables:\")\n",
        "for column in df.columns:\n",
        "    print(f\"{column}: {df[column].dtype}\")\n"
      ]
    },
    {
      "cell_type": "code",
      "source": [
        "unique_default_values = df['default'].unique()\n",
        "print(f\"Valores únicos en la columna 'default': {unique_default_values}\")"
      ],
      "metadata": {
        "colab": {
          "base_uri": "https://localhost:8080/"
        },
        "id": "VbENLAGZBBDN",
        "outputId": "95c2549b-12a2-436f-c364-1a99ee0c1fdc"
      },
      "execution_count": 21,
      "outputs": [
        {
          "output_type": "stream",
          "name": "stdout",
          "text": [
            "Valores únicos en la columna 'default': [1 2]\n"
          ]
        }
      ]
    },
    {
      "cell_type": "code",
      "source": [
        "df.info()"
      ],
      "metadata": {
        "colab": {
          "base_uri": "https://localhost:8080/"
        },
        "id": "7v81-nneFjkv",
        "outputId": "7952534b-7c12-4915-b41a-81d3bf09668e"
      },
      "execution_count": 28,
      "outputs": [
        {
          "output_type": "stream",
          "name": "stdout",
          "text": [
            "<class 'pandas.core.frame.DataFrame'>\n",
            "RangeIndex: 1000 entries, 0 to 999\n",
            "Data columns (total 21 columns):\n",
            " #   Column                Non-Null Count  Dtype \n",
            "---  ------                --------------  ----- \n",
            " 0   checking_balance      1000 non-null   object\n",
            " 1   months_loan_duration  1000 non-null   int64 \n",
            " 2   credit_history        1000 non-null   object\n",
            " 3   purpose               1000 non-null   object\n",
            " 4   amount                1000 non-null   int64 \n",
            " 5   savings_balance       1000 non-null   object\n",
            " 6   employment_length     1000 non-null   object\n",
            " 7   installment_rate      1000 non-null   int64 \n",
            " 8   personal_status       1000 non-null   object\n",
            " 9   other_debtors         1000 non-null   object\n",
            " 10  residence_history     1000 non-null   int64 \n",
            " 11  property              1000 non-null   object\n",
            " 12  age                   1000 non-null   int64 \n",
            " 13  installment_plan      1000 non-null   object\n",
            " 14  housing               1000 non-null   object\n",
            " 15  existing_credits      1000 non-null   int64 \n",
            " 16  default               1000 non-null   int64 \n",
            " 17  dependents            1000 non-null   int64 \n",
            " 18  telephone             1000 non-null   object\n",
            " 19  foreign_worker        1000 non-null   object\n",
            " 20  job                   1000 non-null   object\n",
            "dtypes: int64(8), object(13)\n",
            "memory usage: 164.2+ KB\n"
          ]
        }
      ]
    },
    {
      "cell_type": "markdown",
      "source": [
        "## Ejercicio 1\n",
        "\n",
        "Probabilidad de impago, P(default=2)"
      ],
      "metadata": {
        "id": "ne1423wrFrCA"
      }
    },
    {
      "cell_type": "code",
      "source": [
        "impago_count = df['default'].value_counts().get(2, 0)\n",
        "\n",
        "total_observaciones = len(df)\n",
        "probabilidad_impago = impago_count / total_observaciones\n",
        "print(f\"Probabilidad de impago (default=2): {probabilidad_impago:.4f}\")\n"
      ],
      "metadata": {
        "colab": {
          "base_uri": "https://localhost:8080/"
        },
        "id": "p45RVtAeBIAw",
        "outputId": "b5221306-4ee4-425c-d4c7-fc7cabae5225"
      },
      "execution_count": 29,
      "outputs": [
        {
          "output_type": "stream",
          "name": "stdout",
          "text": [
            "Probabilidad de impago (default=2): 0.3000\n"
          ]
        }
      ]
    },
    {
      "cell_type": "markdown",
      "source": [
        "## Ejercicio 2\n",
        "Probabilidad de impago condicionado a la variable 'housing' (considerad todos los valores de la variable)\n"
      ],
      "metadata": {
        "id": "kaIO7jphFz_p"
      }
    },
    {
      "cell_type": "code",
      "source": [
        "categorias_housing = df['housing'].unique()\n",
        "for categoria in categorias_housing:\n",
        "    subset = df[df['housing'] == categoria]\n",
        "    impago_count = subset['default'].value_counts().get(2, 0)\n",
        "    total_observaciones_categoria = len(subset)\n",
        "\n",
        "    probabilidad_impago_condicional = impago_count / total_observaciones_categoria\n",
        "    print(f\"Probabilidad de impago condicionado a '{categoria}': {probabilidad_impago_condicional:.4f}\")\n"
      ],
      "metadata": {
        "colab": {
          "base_uri": "https://localhost:8080/"
        },
        "id": "hckIXiSbBpdn",
        "outputId": "ae0aedb8-94fe-47b9-cad4-09918ec2d522"
      },
      "execution_count": 30,
      "outputs": [
        {
          "output_type": "stream",
          "name": "stdout",
          "text": [
            "Probabilidad de impago condicionado a 'own': 0.2609\n",
            "Probabilidad de impago condicionado a 'for free': 0.4074\n",
            "Probabilidad de impago condicionado a 'rent': 0.3911\n"
          ]
        }
      ]
    },
    {
      "cell_type": "markdown",
      "source": [
        "## Ejercicio 3\n",
        "Probabilidad de impago condicionado a las variables 'dependents'=2 y 'telephone'='none'\n"
      ],
      "metadata": {
        "id": "delCb1eGF_7Z"
      }
    },
    {
      "cell_type": "code",
      "source": [
        "condiciones = (df['dependents'] == 2) & (df['telephone'] == 'none')\n",
        "\n",
        "subset = df[condiciones]\n",
        "\n",
        "impago_count = subset['default'].value_counts().get(2, 0)\n",
        "total_observaciones_condicion = len(subset)\n",
        "probabilidad_impago_condicional = impago_count / total_observaciones_condicion\n",
        "\n",
        "print(f\"Probabilidad de impago condicionado a 'dependents'=2 y 'telephone'='none': {probabilidad_impago_condicional:.4f}\")\n"
      ],
      "metadata": {
        "colab": {
          "base_uri": "https://localhost:8080/"
        },
        "id": "M0q0uSN7BykA",
        "outputId": "ed73eb21-05ce-460b-c3bf-c5a3eb895f3f"
      },
      "execution_count": 24,
      "outputs": [
        {
          "output_type": "stream",
          "name": "stdout",
          "text": [
            "Probabilidad de impago condicionado a 'dependents'=2 y 'telephone'='none': 0.3684\n"
          ]
        }
      ]
    },
    {
      "cell_type": "markdown",
      "source": [
        "## Ejercicio 4\n",
        "Probabilidad de impago condicionado a las variables 'dependents'=1, 'telephone'='yes' y 'personal_status'='female'\n"
      ],
      "metadata": {
        "id": "aOZ0c7xvGDk0"
      }
    },
    {
      "cell_type": "code",
      "source": [
        "condiciones = (df['dependents'] == 1) & (df['telephone'] == 'yes') & (df['personal_status'] == 'female')\n",
        "subset = df[condiciones]\n",
        "\n",
        "impago_count = subset['default'].value_counts().get(2, 0)\n",
        "total_observaciones_condicion = len(subset)\n",
        "probabilidad_impago_condicional = impago_count / total_observaciones_condicion\n",
        "\n",
        "print(f\"Probabilidad de impago condicionado a 'dependents'=1, 'telephone'='yes', y 'personal_status'='female': {probabilidad_impago_condicional:.4f}\")\n"
      ],
      "metadata": {
        "colab": {
          "base_uri": "https://localhost:8080/"
        },
        "id": "EBaQzOsDB61F",
        "outputId": "71136106-31d2-4c13-9452-6f33aed72533"
      },
      "execution_count": 25,
      "outputs": [
        {
          "output_type": "stream",
          "name": "stdout",
          "text": [
            "Probabilidad de impago condicionado a 'dependents'=1, 'telephone'='yes', y 'personal_status'='female': 0.3269\n"
          ]
        }
      ]
    },
    {
      "cell_type": "markdown",
      "source": [
        "## Ejercicio 5\n",
        "Comprobar si las variables 'housing' y 'property' son independientes."
      ],
      "metadata": {
        "id": "AOgxcFzqGNC-"
      }
    },
    {
      "cell_type": "code",
      "source": [
        "from scipy.stats import chi2_contingency\n",
        "\n",
        "tabla_contingencia = pd.crosstab(df['housing'], df['property'])\n",
        "chi2, p_valor, _, _ = chi2_contingency(tabla_contingencia)\n",
        "\n",
        "nivel_significancia = 0.05\n",
        "\n",
        "if p_valor < nivel_significancia:\n",
        "    print(f\"Las variables 'housing' y 'property' son dependientes (p-valor = {p_valor:.4f})\")\n",
        "else:\n",
        "    print(f\"Las variables 'housing' y 'property' son independientes (p-valor = {p_valor:.4f})\")\n"
      ],
      "metadata": {
        "colab": {
          "base_uri": "https://localhost:8080/"
        },
        "id": "qGgC9GoLCU_d",
        "outputId": "74b2a2e8-6e53-4e6a-ce5c-ee7b55d5dd0d"
      },
      "execution_count": 31,
      "outputs": [
        {
          "output_type": "stream",
          "name": "stdout",
          "text": [
            "Las variables 'housing' y 'property' son dependientes (p-valor = 0.0000)\n"
          ]
        }
      ]
    },
    {
      "cell_type": "markdown",
      "source": [
        "## Test de Chi-Cuadrado para Independencia\n",
        "\n",
        "### Hipótesis Nula (H0)\n",
        "\n",
        "La hipótesis nula establece que las variables 'housing' y 'property' son independientes.\n",
        "\n",
        "### Hipótesis Alternativa (H1)\n",
        "\n",
        "La hipótesis alternativa sugiere que hay una relación entre 'housing' y 'property'.\n",
        "\n",
        "### Nivel de Significancia\n",
        "\n",
        "Supongamos un nivel de significancia de aklpha = 0.05.\n",
        "\n",
        "### Procedimiento\n",
        "\n",
        "   - Si p-valor < alpha, rechazar H0 y concluir que hay evidencia de una relación.\n",
        "   - Si p-valor > alpha, no rechazar H0 y no hay suficiente evidencia para afirmar una relación.\n",
        "\n",
        "### Resultados\n",
        "\n",
        "Después de realizar el test de chi-cuadrado, obtenemos un p-valor muy pequeño, prácticamente cero.\n",
        "\n",
        "Dado que p-valor < alpha, rechazamos la hipótesis nula. Hay evidencia significativa para afirmar que existe una relación entre 'housing' y 'property' a un nivel de significancia del 5%.\n",
        "\n",
        "\n"
      ],
      "metadata": {
        "id": "WN0zpAjgGSob"
      }
    }
  ]
}
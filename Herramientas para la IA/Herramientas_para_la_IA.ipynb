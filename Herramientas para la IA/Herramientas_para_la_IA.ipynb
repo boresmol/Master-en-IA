{
  "nbformat": 4,
  "nbformat_minor": 0,
  "metadata": {
    "colab": {
      "provenance": []
    },
    "kernelspec": {
      "name": "python3",
      "display_name": "Python 3"
    },
    "language_info": {
      "name": "python"
    }
  },
  "cells": [
    {
      "cell_type": "markdown",
      "source": [
        "# Herramientas para la IA\n",
        "Primera clase"
      ],
      "metadata": {
        "id": "LPoMKLMjxdFx"
      }
    },
    {
      "cell_type": "code",
      "execution_count": null,
      "metadata": {
        "id": "keivqOY6xZm8"
      },
      "outputs": [],
      "source": []
    }
  ]
}
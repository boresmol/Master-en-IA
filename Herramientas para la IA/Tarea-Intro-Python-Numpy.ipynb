{
  "cells": [
    {
      "cell_type": "markdown",
      "source": [
        "# Alumno: Borja Esteve Molner"
      ],
      "metadata": {
        "id": "ncakKFNqI9en"
      }
    },
    {
      "cell_type": "markdown",
      "metadata": {
        "id": "37mY__xqzyOJ"
      },
      "source": [
        "<img src=\"idal-logo.png\" align=\"right\" style=\"float\" width=\"400\">\n",
        "<font color=\"#CA3532\"><h1 align=\"left\">mIA3</h1></font>\n",
        "<font color=\"#6E6E6E\"><h2 align=\"left\">Tarea Evaluable. Python.</h2></font>\n",
        "\n",
        "#### Juan Gómez-Sanchis"
      ]
    },
    {
      "cell_type": "markdown",
      "metadata": {
        "id": "9nUfZjA-zyOL"
      },
      "source": [
        "**Ejercicio 1. (2 puntos)** La criba de Eratóstenes es un método ideado por Eratóstenes, para conseguir los números primos entre el 1 y un determinado número entero n. Este ejercicio permite poner en práctica muchas de las sentencias de control que hemos visto.\n",
        "\n",
        "\n",
        "La criba de Eratostenes se puede programar como un algoritmo que consiste en formar  una tabla con todos los números naturales comprendidos entre 2 y n,  se van tachando los números que no son primos de la siguiente manera:\n",
        "\n",
        "* Comenzando por el 2 (considerado primo), se tachan todos sus múltiplos.\n",
        "* Comenzando de nuevo, cuando se encuentra un número entero que no ha sido tachado, ese número es declarado primo, y se procede a tachar todos sus múltiplos.\n",
        "* El proceso se repite iterativamente. El proceso termina cuando el cuadrado del siguiente número confirmado como primo es mayor que n.\n",
        "\n",
        "Con todo esto,\n",
        "\n",
        "* Crea una función denominada `Eratostenes(n)`, que devuelva los número primos inferiores o iguales a n.\n",
        "\n",
        "* El tipo computacional de n es entero, modifica la función anterior `Eratostenes_Err` y crea un nueva función  para que si se introduce un valor real como argumento de la función, no devuelva error y  muestre un mensaje por pantalla informando al usuario de que el argumento sea entero."
      ]
    },
    {
      "cell_type": "code",
      "source": [
        "def Eratostenes(n):\n",
        "  primos = [True] * (n+1)\n",
        "  p = 2\n",
        "\n",
        "  while p <= n:\n",
        "    if primos[p] == True:\n",
        "      for i in range(p*p,n+1,p):\n",
        "        primos[i] = False\n",
        "\n",
        "    p += 1\n",
        "\n",
        "  primos = [i for i in range(2, n + 1) if primos[i]]\n",
        "  return primos\n",
        "\n",
        "\n",
        "n = 10\n",
        "resultado = Eratostenes(n)\n",
        "print(resultado)\n",
        "\n"
      ],
      "metadata": {
        "colab": {
          "base_uri": "https://localhost:8080/"
        },
        "id": "IaEctFNo2guF",
        "outputId": "37d9be87-655c-4069-bdd7-21e50cb05db5"
      },
      "execution_count": 22,
      "outputs": [
        {
          "output_type": "stream",
          "name": "stdout",
          "text": [
            "[2, 3, 5, 7]\n"
          ]
        }
      ]
    },
    {
      "cell_type": "code",
      "execution_count": 23,
      "metadata": {
        "colab": {
          "base_uri": "https://localhost:8080/",
          "height": 366
        },
        "id": "fsJ0BI4DzyOO",
        "outputId": "2aa453c9-6579-454e-bf2b-76650822fcec"
      },
      "outputs": [
        {
          "output_type": "error",
          "ename": "ValueError",
          "evalue": "ignored",
          "traceback": [
            "\u001b[0;31m---------------------------------------------------------------------------\u001b[0m",
            "\u001b[0;31mValueError\u001b[0m                                Traceback (most recent call last)",
            "\u001b[0;32m<ipython-input-23-6ce958a060ac>\u001b[0m in \u001b[0;36m<cell line: 20>\u001b[0;34m()\u001b[0m\n\u001b[1;32m     18\u001b[0m \u001b[0;34m\u001b[0m\u001b[0m\n\u001b[1;32m     19\u001b[0m \u001b[0mn\u001b[0m \u001b[0;34m=\u001b[0m \u001b[0;36m7.8\u001b[0m\u001b[0;34m\u001b[0m\u001b[0;34m\u001b[0m\u001b[0m\n\u001b[0;32m---> 20\u001b[0;31m \u001b[0mresultado\u001b[0m \u001b[0;34m=\u001b[0m \u001b[0mEratostenes\u001b[0m\u001b[0;34m(\u001b[0m\u001b[0mn\u001b[0m\u001b[0;34m)\u001b[0m\u001b[0;34m\u001b[0m\u001b[0;34m\u001b[0m\u001b[0m\n\u001b[0m\u001b[1;32m     21\u001b[0m \u001b[0mprint\u001b[0m\u001b[0;34m(\u001b[0m\u001b[0mresultado\u001b[0m\u001b[0;34m)\u001b[0m\u001b[0;34m\u001b[0m\u001b[0;34m\u001b[0m\u001b[0m\n",
            "\u001b[0;32m<ipython-input-23-6ce958a060ac>\u001b[0m in \u001b[0;36mEratostenes\u001b[0;34m(n)\u001b[0m\n\u001b[1;32m      2\u001b[0m \u001b[0;32mdef\u001b[0m \u001b[0mEratostenes\u001b[0m\u001b[0;34m(\u001b[0m\u001b[0mn\u001b[0m\u001b[0;34m)\u001b[0m\u001b[0;34m:\u001b[0m\u001b[0;34m\u001b[0m\u001b[0;34m\u001b[0m\u001b[0m\n\u001b[1;32m      3\u001b[0m   \u001b[0;32mif\u001b[0m \u001b[0;32mnot\u001b[0m \u001b[0misinstance\u001b[0m\u001b[0;34m(\u001b[0m\u001b[0mn\u001b[0m\u001b[0;34m,\u001b[0m \u001b[0mint\u001b[0m\u001b[0;34m)\u001b[0m \u001b[0;32mor\u001b[0m \u001b[0mn\u001b[0m \u001b[0;34m<=\u001b[0m \u001b[0;36m0\u001b[0m\u001b[0;34m:\u001b[0m\u001b[0;34m\u001b[0m\u001b[0;34m\u001b[0m\u001b[0m\n\u001b[0;32m----> 4\u001b[0;31m       \u001b[0;32mraise\u001b[0m \u001b[0mValueError\u001b[0m\u001b[0;34m(\u001b[0m\u001b[0;34m\"El valor de 'n' debe ser un entero positivo.\"\u001b[0m\u001b[0;34m)\u001b[0m\u001b[0;34m\u001b[0m\u001b[0;34m\u001b[0m\u001b[0m\n\u001b[0m\u001b[1;32m      5\u001b[0m   \u001b[0mprimos\u001b[0m \u001b[0;34m=\u001b[0m \u001b[0;34m[\u001b[0m\u001b[0;32mTrue\u001b[0m\u001b[0;34m]\u001b[0m \u001b[0;34m*\u001b[0m \u001b[0;34m(\u001b[0m\u001b[0mn\u001b[0m\u001b[0;34m+\u001b[0m\u001b[0;36m1\u001b[0m\u001b[0;34m)\u001b[0m\u001b[0;34m\u001b[0m\u001b[0;34m\u001b[0m\u001b[0m\n\u001b[1;32m      6\u001b[0m   \u001b[0mp\u001b[0m \u001b[0;34m=\u001b[0m \u001b[0;36m2\u001b[0m\u001b[0;34m\u001b[0m\u001b[0;34m\u001b[0m\u001b[0m\n",
            "\u001b[0;31mValueError\u001b[0m: El valor de 'n' debe ser un entero positivo."
          ]
        }
      ],
      "source": [
        "#Solución 2\n",
        "def Eratostenes(n):\n",
        "  if not isinstance(n, int) or n <= 0:\n",
        "      raise ValueError(\"El valor de 'n' debe ser un entero positivo.\")\n",
        "  primos = [True] * (n+1)\n",
        "  p = 2\n",
        "\n",
        "  while p <= n:\n",
        "    if primos[p] == True:\n",
        "      for i in range(p*p,n+1,p):\n",
        "        primos[i] = False\n",
        "\n",
        "    p += 1\n",
        "\n",
        "  primos = [i for i in range(2, n + 1) if primos[i]]\n",
        "  return primos\n",
        "\n",
        "\n",
        "n = 7.8\n",
        "resultado = Eratostenes(n)\n",
        "print(resultado)\n"
      ]
    },
    {
      "cell_type": "markdown",
      "metadata": {
        "id": "RM2bgg0ezyOO"
      },
      "source": [
        "**Ejercicio 2. (2 punto)** Crea una array 8x3 con los enteros entre 10 y 34 de uno en uno. Después crea 4 nuevos arrays 2x3 partiendo el array original de dos en dos filas."
      ]
    },
    {
      "cell_type": "code",
      "execution_count": 25,
      "metadata": {
        "colab": {
          "base_uri": "https://localhost:8080/"
        },
        "id": "VOHtjhMgzyOO",
        "outputId": "6308281b-0b5d-4e3b-b07c-aa36e759a028"
      },
      "outputs": [
        {
          "output_type": "stream",
          "name": "stdout",
          "text": [
            "[array([[10, 11, 12],\n",
            "       [13, 14, 15]]), array([[16, 17, 18],\n",
            "       [19, 20, 21]]), array([[22, 23, 24],\n",
            "       [25, 26, 27]]), array([[28, 29, 30],\n",
            "       [31, 32, 33]])]\n"
          ]
        }
      ],
      "source": [
        "import numpy as np\n",
        "\n",
        "primer_array = np.arange(10,34,1)\n",
        "primer_array = primer_array.reshape(8,3)\n",
        "\n",
        "array_spliteado = np.split(primer_array,4)\n",
        "print(array_spliteado)\n",
        "\n"
      ]
    },
    {
      "cell_type": "markdown",
      "metadata": {
        "id": "AeZCTsexzyOP"
      },
      "source": [
        "**Ejercicio 3. (2 punto)** Crea el siguiente array de numpy:\n",
        "\n",
        "\n",
        "[[34,43,73],[82,22,12],[53,94,66]]\n",
        "\n",
        "Calcula:\n",
        "\n",
        "* El máximo por filas\n",
        "* El mínimo por columnas\n",
        "* La media por columnas\n",
        "* La desviación típica por filas\n"
      ]
    },
    {
      "cell_type": "code",
      "execution_count": 31,
      "metadata": {
        "colab": {
          "base_uri": "https://localhost:8080/"
        },
        "id": "Q9kecBfUzyOP",
        "outputId": "5c0cd216-21a2-4f85-a999-ed56bd611f83"
      },
      "outputs": [
        {
          "output_type": "stream",
          "name": "stdout",
          "text": [
            "El máximo por filas es: [73 82 94]\n",
            "El minimo por columna es [34 22 12]\n",
            "La media por columna es [56.33333333 53.         50.33333333]\n",
            "La desviación estándar por fila es [16.673332   30.91206165 17.10750323]\n"
          ]
        }
      ],
      "source": [
        "#Solución\n",
        "array = np.array([[34,43,73],[82,22,12],[53,94,66]])\n",
        "\n",
        "max_por_fila = np.max(array, axis=1)\n",
        "min_col = np.min(array,axis = 0)\n",
        "mean_col = np.mean(array,axis = 0)\n",
        "desv_filas = np.std(array, axis = 1)\n",
        "\n",
        "print(f'El máximo por filas es: {max_por_fila}')\n",
        "print(f'El minimo por columna es {min_col}')\n",
        "print(f'La media por columna es {mean_col}')\n",
        "print(f'La desviación estándar por fila es {desv_filas}')\n"
      ]
    },
    {
      "cell_type": "markdown",
      "metadata": {
        "id": "d5Za1PVzzyOP"
      },
      "source": [
        "**Ejercicio 5. (2 puntos)**\n",
        "\n",
        "En matemáticas, la pseudoinversa $A^+$ de una matriz $A$ es una generalización de la matriz inversa. Un uso común de la pseudoinversa es el de encontrar una solución de «ajuste óptimo» (por mínimos cuadrados) de un sistema de ecuaciones lineales que no posee solución única. Otro uso es hallar la solución de norma mínima (euclídea) de un sistema de ecuaciones lineales con múltiples soluciones.\n",
        "\n",
        "La pseudoinversa $A^+=VS^{-1}U^t$ se obtiene a través de la descomposición en valores singulares (SVD) de la matriz $A=USV^t$. Utilizarás la función  de numpy apropiada  para obtener la descomposicion SVD de la matriz $A=USV^t$.\n",
        "\n",
        "* Determina la matriz $S$.\n",
        "* Comprueba que $A=USV^t$\n",
        "* Comprueba que no se cumple $AA^+=I$**. Es decir $A^+$ no es la matriz inversa $A^{-1}$.\n",
        "* Comprueba que se cumple $AA^+A=A$\n",
        "\n",
        "_Nota: I es la matriz unidad._  \n"
      ]
    },
    {
      "cell_type": "code",
      "execution_count": 35,
      "metadata": {
        "id": "SN5rlan8zyOP"
      },
      "outputs": [],
      "source": [
        "#Solución 1\n",
        "A = np.array([[1,2,3],[4,5,6],[17,22,81]])"
      ]
    },
    {
      "cell_type": "code",
      "execution_count": 39,
      "metadata": {
        "colab": {
          "base_uri": "https://localhost:8080/"
        },
        "id": "mcstNkIfzyOQ",
        "outputId": "3b15f06d-babf-482c-b7b2-708dae4e353d"
      },
      "outputs": [
        {
          "output_type": "stream",
          "name": "stdout",
          "text": [
            "(3, 3) (3,) (3, 3)\n"
          ]
        },
        {
          "output_type": "execute_result",
          "data": {
            "text/plain": [
              "True"
            ]
          },
          "metadata": {},
          "execution_count": 39
        }
      ],
      "source": [
        "#Solución 2\n",
        "U, S, Vh = np.linalg.svd(A, full_matrices=True)\n",
        "print(U.shape, S.shape, Vh.shape)\n",
        "np.allclose(A, np.dot(U[:, :3] * S, Vh)) # Esto compara la matriz A con la descomposición, como da TRUE, se comprueba que A = USVt"
      ]
    },
    {
      "cell_type": "code",
      "execution_count": 54,
      "metadata": {
        "colab": {
          "base_uri": "https://localhost:8080/"
        },
        "id": "tpuykvw8zyOQ",
        "outputId": "bab03b90-b2bd-48a0-b6e0-58b4e076f349"
      },
      "outputs": [
        {
          "output_type": "stream",
          "name": "stdout",
          "text": [
            "Pseudoinversa calculada por pasos: [[-1.68518519  0.59259259  0.01851852]\n",
            " [ 1.37037037 -0.18518519 -0.03703704]\n",
            " [-0.01851852 -0.07407407  0.01851852]]\n",
            "Pseudoinversa calculada con método numpy: [[-1.68518519  0.59259259  0.01851852]\n",
            " [ 1.37037037 -0.18518519 -0.03703704]\n",
            " [-0.01851852 -0.07407407  0.01851852]]\n",
            "Comprobacion de que no se obtiene la identidad: [[ 1.00000000e+00 -1.69309011e-15 -1.97758476e-16]\n",
            " [ 1.36210487e-14  1.00000000e+00 -1.45716772e-16]\n",
            " [ 6.47572274e-14 -1.34614542e-14  1.00000000e+00]]\n"
          ]
        }
      ],
      "source": [
        "#Solución 3\n",
        "\n",
        "Sinv = np.diag(1/S)\n",
        "\n",
        "pseudoA = np.dot(np.transpose(Vh),np.dot(Sinv,np.transpose(U)))\n",
        "\n",
        "print(f'Pseudoinversa calculada por pasos: {pseudoA}')\n",
        "\n",
        "###### comparamos con la función de numpy para calcular la pseudo inversa #######\n",
        "\n",
        "print(f'Pseudoinversa calculada con método numpy: {np.linalg.pinv(A)}')\n",
        "\n",
        "##### Una vez comprobado que está bien calculada la Pseudoinversa, pasamos a comprobar la condición del ejerrcicio######\n",
        "\n",
        "print(f'Comprobacion de que no se obtiene la identidad: {np.dot(A,pseudoA)}')"
      ]
    },
    {
      "cell_type": "code",
      "execution_count": 56,
      "metadata": {
        "colab": {
          "base_uri": "https://localhost:8080/"
        },
        "id": "6IjbSv2LzyOQ",
        "outputId": "ec6700ee-d6cd-4fcc-d0ca-09f09e1dd51b"
      },
      "outputs": [
        {
          "output_type": "stream",
          "name": "stdout",
          "text": [
            "Como el resultado es True se cumple la condición\n"
          ]
        }
      ],
      "source": [
        "#Solución 4\n",
        "product = np.dot(A, pseudoA)\n",
        "\n",
        "resultado = np.dot(product,A)\n",
        "\n",
        "\n",
        "igual = np.allclose(resultado, A)\n",
        "\n",
        "print(f'Como el resultado es {igual} se cumple la condición')"
      ]
    },
    {
      "cell_type": "markdown",
      "metadata": {
        "id": "-c9boo6nzyOQ"
      },
      "source": []
    },
    {
      "cell_type": "markdown",
      "metadata": {
        "id": "XSrx_WKlzyOQ"
      },
      "source": [
        "**Ejercicio 6. (2 puntos)** Carga el dataset `Coches_dataset_jgx_I.csv` empleando la librería `pandas` y sus funciones de importación.\n",
        "\n",
        "* Una vez cargado, visualiza las 5 primeras muestras del data frame.\n",
        "* Averigua el número de muestras del data frame.\n",
        "* Crea los gráficos de scattering necesarios dispuestos en un layout subplot donde se muestren las relaciones entre las variables de tipo float del dataset 2 a 2.\n",
        "\n"
      ]
    },
    {
      "cell_type": "code",
      "execution_count": 60,
      "metadata": {
        "id": "PmVwkqu1zyOR"
      },
      "outputs": [],
      "source": [
        "#Solución 1\n",
        "import pandas as pd\n",
        "dataset = pd.read_csv(\"Coches_dataset_jgx_I.csv\", sep = ';')"
      ]
    },
    {
      "cell_type": "code",
      "source": [
        "#Solución 2\n",
        "dataset.head()"
      ],
      "metadata": {
        "colab": {
          "base_uri": "https://localhost:8080/",
          "height": 206
        },
        "id": "q59xxfsdIrky",
        "outputId": "c65b0fff-f817-485a-f343-a1c96bdf5d58"
      },
      "execution_count": 70,
      "outputs": [
        {
          "output_type": "execute_result",
          "data": {
            "text/plain": [
              "   index      company   body-style  wheel-base  length engine-type  \\\n",
              "0      0  alfa-romero  convertible        88.6   168.8        dohc   \n",
              "1      1  alfa-romero  convertible        88.6   168.8        dohc   \n",
              "2      2  alfa-romero    hatchback        94.5   171.2        ohcv   \n",
              "3      3         audi        sedan        99.8   176.6         ohc   \n",
              "4      4         audi        sedan        99.4   176.6         ohc   \n",
              "\n",
              "  num-of-cylinders  horsepower  average-mileage  price  \n",
              "0             four         111               21  13495  \n",
              "1             four         111               21  16500  \n",
              "2              six         154               19  16500  \n",
              "3             four         102               24  13950  \n",
              "4             five         115               18  17450  "
            ],
            "text/html": [
              "\n",
              "  <div id=\"df-7eddf086-a194-4c40-8d4c-bb66c091ac2d\" class=\"colab-df-container\">\n",
              "    <div>\n",
              "<style scoped>\n",
              "    .dataframe tbody tr th:only-of-type {\n",
              "        vertical-align: middle;\n",
              "    }\n",
              "\n",
              "    .dataframe tbody tr th {\n",
              "        vertical-align: top;\n",
              "    }\n",
              "\n",
              "    .dataframe thead th {\n",
              "        text-align: right;\n",
              "    }\n",
              "</style>\n",
              "<table border=\"1\" class=\"dataframe\">\n",
              "  <thead>\n",
              "    <tr style=\"text-align: right;\">\n",
              "      <th></th>\n",
              "      <th>index</th>\n",
              "      <th>company</th>\n",
              "      <th>body-style</th>\n",
              "      <th>wheel-base</th>\n",
              "      <th>length</th>\n",
              "      <th>engine-type</th>\n",
              "      <th>num-of-cylinders</th>\n",
              "      <th>horsepower</th>\n",
              "      <th>average-mileage</th>\n",
              "      <th>price</th>\n",
              "    </tr>\n",
              "  </thead>\n",
              "  <tbody>\n",
              "    <tr>\n",
              "      <th>0</th>\n",
              "      <td>0</td>\n",
              "      <td>alfa-romero</td>\n",
              "      <td>convertible</td>\n",
              "      <td>88.6</td>\n",
              "      <td>168.8</td>\n",
              "      <td>dohc</td>\n",
              "      <td>four</td>\n",
              "      <td>111</td>\n",
              "      <td>21</td>\n",
              "      <td>13495</td>\n",
              "    </tr>\n",
              "    <tr>\n",
              "      <th>1</th>\n",
              "      <td>1</td>\n",
              "      <td>alfa-romero</td>\n",
              "      <td>convertible</td>\n",
              "      <td>88.6</td>\n",
              "      <td>168.8</td>\n",
              "      <td>dohc</td>\n",
              "      <td>four</td>\n",
              "      <td>111</td>\n",
              "      <td>21</td>\n",
              "      <td>16500</td>\n",
              "    </tr>\n",
              "    <tr>\n",
              "      <th>2</th>\n",
              "      <td>2</td>\n",
              "      <td>alfa-romero</td>\n",
              "      <td>hatchback</td>\n",
              "      <td>94.5</td>\n",
              "      <td>171.2</td>\n",
              "      <td>ohcv</td>\n",
              "      <td>six</td>\n",
              "      <td>154</td>\n",
              "      <td>19</td>\n",
              "      <td>16500</td>\n",
              "    </tr>\n",
              "    <tr>\n",
              "      <th>3</th>\n",
              "      <td>3</td>\n",
              "      <td>audi</td>\n",
              "      <td>sedan</td>\n",
              "      <td>99.8</td>\n",
              "      <td>176.6</td>\n",
              "      <td>ohc</td>\n",
              "      <td>four</td>\n",
              "      <td>102</td>\n",
              "      <td>24</td>\n",
              "      <td>13950</td>\n",
              "    </tr>\n",
              "    <tr>\n",
              "      <th>4</th>\n",
              "      <td>4</td>\n",
              "      <td>audi</td>\n",
              "      <td>sedan</td>\n",
              "      <td>99.4</td>\n",
              "      <td>176.6</td>\n",
              "      <td>ohc</td>\n",
              "      <td>five</td>\n",
              "      <td>115</td>\n",
              "      <td>18</td>\n",
              "      <td>17450</td>\n",
              "    </tr>\n",
              "  </tbody>\n",
              "</table>\n",
              "</div>\n",
              "    <div class=\"colab-df-buttons\">\n",
              "\n",
              "  <div class=\"colab-df-container\">\n",
              "    <button class=\"colab-df-convert\" onclick=\"convertToInteractive('df-7eddf086-a194-4c40-8d4c-bb66c091ac2d')\"\n",
              "            title=\"Convert this dataframe to an interactive table.\"\n",
              "            style=\"display:none;\">\n",
              "\n",
              "  <svg xmlns=\"http://www.w3.org/2000/svg\" height=\"24px\" viewBox=\"0 -960 960 960\">\n",
              "    <path d=\"M120-120v-720h720v720H120Zm60-500h600v-160H180v160Zm220 220h160v-160H400v160Zm0 220h160v-160H400v160ZM180-400h160v-160H180v160Zm440 0h160v-160H620v160ZM180-180h160v-160H180v160Zm440 0h160v-160H620v160Z\"/>\n",
              "  </svg>\n",
              "    </button>\n",
              "\n",
              "  <style>\n",
              "    .colab-df-container {\n",
              "      display:flex;\n",
              "      gap: 12px;\n",
              "    }\n",
              "\n",
              "    .colab-df-convert {\n",
              "      background-color: #E8F0FE;\n",
              "      border: none;\n",
              "      border-radius: 50%;\n",
              "      cursor: pointer;\n",
              "      display: none;\n",
              "      fill: #1967D2;\n",
              "      height: 32px;\n",
              "      padding: 0 0 0 0;\n",
              "      width: 32px;\n",
              "    }\n",
              "\n",
              "    .colab-df-convert:hover {\n",
              "      background-color: #E2EBFA;\n",
              "      box-shadow: 0px 1px 2px rgba(60, 64, 67, 0.3), 0px 1px 3px 1px rgba(60, 64, 67, 0.15);\n",
              "      fill: #174EA6;\n",
              "    }\n",
              "\n",
              "    .colab-df-buttons div {\n",
              "      margin-bottom: 4px;\n",
              "    }\n",
              "\n",
              "    [theme=dark] .colab-df-convert {\n",
              "      background-color: #3B4455;\n",
              "      fill: #D2E3FC;\n",
              "    }\n",
              "\n",
              "    [theme=dark] .colab-df-convert:hover {\n",
              "      background-color: #434B5C;\n",
              "      box-shadow: 0px 1px 3px 1px rgba(0, 0, 0, 0.15);\n",
              "      filter: drop-shadow(0px 1px 2px rgba(0, 0, 0, 0.3));\n",
              "      fill: #FFFFFF;\n",
              "    }\n",
              "  </style>\n",
              "\n",
              "    <script>\n",
              "      const buttonEl =\n",
              "        document.querySelector('#df-7eddf086-a194-4c40-8d4c-bb66c091ac2d button.colab-df-convert');\n",
              "      buttonEl.style.display =\n",
              "        google.colab.kernel.accessAllowed ? 'block' : 'none';\n",
              "\n",
              "      async function convertToInteractive(key) {\n",
              "        const element = document.querySelector('#df-7eddf086-a194-4c40-8d4c-bb66c091ac2d');\n",
              "        const dataTable =\n",
              "          await google.colab.kernel.invokeFunction('convertToInteractive',\n",
              "                                                    [key], {});\n",
              "        if (!dataTable) return;\n",
              "\n",
              "        const docLinkHtml = 'Like what you see? Visit the ' +\n",
              "          '<a target=\"_blank\" href=https://colab.research.google.com/notebooks/data_table.ipynb>data table notebook</a>'\n",
              "          + ' to learn more about interactive tables.';\n",
              "        element.innerHTML = '';\n",
              "        dataTable['output_type'] = 'display_data';\n",
              "        await google.colab.output.renderOutput(dataTable, element);\n",
              "        const docLink = document.createElement('div');\n",
              "        docLink.innerHTML = docLinkHtml;\n",
              "        element.appendChild(docLink);\n",
              "      }\n",
              "    </script>\n",
              "  </div>\n",
              "\n",
              "\n",
              "<div id=\"df-94291392-61ac-4073-8b78-eb4d09f663d4\">\n",
              "  <button class=\"colab-df-quickchart\" onclick=\"quickchart('df-94291392-61ac-4073-8b78-eb4d09f663d4')\"\n",
              "            title=\"Suggest charts.\"\n",
              "            style=\"display:none;\">\n",
              "\n",
              "<svg xmlns=\"http://www.w3.org/2000/svg\" height=\"24px\"viewBox=\"0 0 24 24\"\n",
              "     width=\"24px\">\n",
              "    <g>\n",
              "        <path d=\"M19 3H5c-1.1 0-2 .9-2 2v14c0 1.1.9 2 2 2h14c1.1 0 2-.9 2-2V5c0-1.1-.9-2-2-2zM9 17H7v-7h2v7zm4 0h-2V7h2v10zm4 0h-2v-4h2v4z\"/>\n",
              "    </g>\n",
              "</svg>\n",
              "  </button>\n",
              "\n",
              "<style>\n",
              "  .colab-df-quickchart {\n",
              "      --bg-color: #E8F0FE;\n",
              "      --fill-color: #1967D2;\n",
              "      --hover-bg-color: #E2EBFA;\n",
              "      --hover-fill-color: #174EA6;\n",
              "      --disabled-fill-color: #AAA;\n",
              "      --disabled-bg-color: #DDD;\n",
              "  }\n",
              "\n",
              "  [theme=dark] .colab-df-quickchart {\n",
              "      --bg-color: #3B4455;\n",
              "      --fill-color: #D2E3FC;\n",
              "      --hover-bg-color: #434B5C;\n",
              "      --hover-fill-color: #FFFFFF;\n",
              "      --disabled-bg-color: #3B4455;\n",
              "      --disabled-fill-color: #666;\n",
              "  }\n",
              "\n",
              "  .colab-df-quickchart {\n",
              "    background-color: var(--bg-color);\n",
              "    border: none;\n",
              "    border-radius: 50%;\n",
              "    cursor: pointer;\n",
              "    display: none;\n",
              "    fill: var(--fill-color);\n",
              "    height: 32px;\n",
              "    padding: 0;\n",
              "    width: 32px;\n",
              "  }\n",
              "\n",
              "  .colab-df-quickchart:hover {\n",
              "    background-color: var(--hover-bg-color);\n",
              "    box-shadow: 0 1px 2px rgba(60, 64, 67, 0.3), 0 1px 3px 1px rgba(60, 64, 67, 0.15);\n",
              "    fill: var(--button-hover-fill-color);\n",
              "  }\n",
              "\n",
              "  .colab-df-quickchart-complete:disabled,\n",
              "  .colab-df-quickchart-complete:disabled:hover {\n",
              "    background-color: var(--disabled-bg-color);\n",
              "    fill: var(--disabled-fill-color);\n",
              "    box-shadow: none;\n",
              "  }\n",
              "\n",
              "  .colab-df-spinner {\n",
              "    border: 2px solid var(--fill-color);\n",
              "    border-color: transparent;\n",
              "    border-bottom-color: var(--fill-color);\n",
              "    animation:\n",
              "      spin 1s steps(1) infinite;\n",
              "  }\n",
              "\n",
              "  @keyframes spin {\n",
              "    0% {\n",
              "      border-color: transparent;\n",
              "      border-bottom-color: var(--fill-color);\n",
              "      border-left-color: var(--fill-color);\n",
              "    }\n",
              "    20% {\n",
              "      border-color: transparent;\n",
              "      border-left-color: var(--fill-color);\n",
              "      border-top-color: var(--fill-color);\n",
              "    }\n",
              "    30% {\n",
              "      border-color: transparent;\n",
              "      border-left-color: var(--fill-color);\n",
              "      border-top-color: var(--fill-color);\n",
              "      border-right-color: var(--fill-color);\n",
              "    }\n",
              "    40% {\n",
              "      border-color: transparent;\n",
              "      border-right-color: var(--fill-color);\n",
              "      border-top-color: var(--fill-color);\n",
              "    }\n",
              "    60% {\n",
              "      border-color: transparent;\n",
              "      border-right-color: var(--fill-color);\n",
              "    }\n",
              "    80% {\n",
              "      border-color: transparent;\n",
              "      border-right-color: var(--fill-color);\n",
              "      border-bottom-color: var(--fill-color);\n",
              "    }\n",
              "    90% {\n",
              "      border-color: transparent;\n",
              "      border-bottom-color: var(--fill-color);\n",
              "    }\n",
              "  }\n",
              "</style>\n",
              "\n",
              "  <script>\n",
              "    async function quickchart(key) {\n",
              "      const quickchartButtonEl =\n",
              "        document.querySelector('#' + key + ' button');\n",
              "      quickchartButtonEl.disabled = true;  // To prevent multiple clicks.\n",
              "      quickchartButtonEl.classList.add('colab-df-spinner');\n",
              "      try {\n",
              "        const charts = await google.colab.kernel.invokeFunction(\n",
              "            'suggestCharts', [key], {});\n",
              "      } catch (error) {\n",
              "        console.error('Error during call to suggestCharts:', error);\n",
              "      }\n",
              "      quickchartButtonEl.classList.remove('colab-df-spinner');\n",
              "      quickchartButtonEl.classList.add('colab-df-quickchart-complete');\n",
              "    }\n",
              "    (() => {\n",
              "      let quickchartButtonEl =\n",
              "        document.querySelector('#df-94291392-61ac-4073-8b78-eb4d09f663d4 button');\n",
              "      quickchartButtonEl.style.display =\n",
              "        google.colab.kernel.accessAllowed ? 'block' : 'none';\n",
              "    })();\n",
              "  </script>\n",
              "</div>\n",
              "    </div>\n",
              "  </div>\n"
            ]
          },
          "metadata": {},
          "execution_count": 70
        }
      ]
    },
    {
      "cell_type": "code",
      "execution_count": 65,
      "metadata": {
        "colab": {
          "base_uri": "https://localhost:8080/"
        },
        "id": "ZaUlqkVZzyOR",
        "outputId": "874e5557-5788-49c8-b5c0-41a2a7d1d2b2"
      },
      "outputs": [
        {
          "output_type": "stream",
          "name": "stdout",
          "text": [
            "El número de muestras del dataset es: 61\n"
          ]
        }
      ],
      "source": [
        "#Solucion 3\n",
        "muestras = dataset.shape[0]\n",
        "print(f'El número de muestras del dataset es: {muestras}')"
      ]
    },
    {
      "cell_type": "code",
      "execution_count": 68,
      "metadata": {
        "scrolled": true,
        "colab": {
          "base_uri": "https://localhost:8080/",
          "height": 486
        },
        "id": "BDLEYPulzyOR",
        "outputId": "07848b29-e0b1-4edf-a8d1-b4a98aab1ed0"
      },
      "outputs": [
        {
          "output_type": "display_data",
          "data": {
            "text/plain": [
              "<Figure size 640x480 with 4 Axes>"
            ],
            "image/png": "[encoded data removed]"
          },
          "metadata": {}
        }
      ],
      "source": [
        "#Solucion 4\n",
        "import matplotlib.pyplot as plt\n",
        "\n",
        "colum_float = dataset.select_dtypes(include=['float64']).columns\n",
        "num_col = len(colum_float)\n",
        "\n",
        "filas = num_col\n",
        "col = num_col\n",
        "\n",
        "fig,axs = plt.subplots(filas,col)\n",
        "\n",
        "for i,col1 in enumerate(colum_float):\n",
        "  for j,col2 in enumerate(colum_float):\n",
        "    if i!=j:\n",
        "      axs[i, j].scatter(dataset[col1], dataset[col2])\n",
        "      axs[i, j].set_xlabel(col1)\n",
        "      axs[i, j].set_ylabel(col2)\n",
        "\n",
        "plt.tight_layout()\n",
        "plt.show()\n"
      ]
    },
    {
      "cell_type": "code",
      "source": [],
      "metadata": {
        "id": "_TsPBSUkIVqe"
      },
      "execution_count": null,
      "outputs": []
    }
  ],
  "metadata": {
    "kernelspec": {
      "display_name": "Python 3",
      "language": "python",
      "name": "python3"
    },
    "language_info": {
      "codemirror_mode": {
        "name": "ipython",
        "version": 3
      },
      "file_extension": ".py",
      "mimetype": "text/x-python",
      "name": "python",
      "nbconvert_exporter": "python",
      "pygments_lexer": "ipython3",
      "version": "3.7.3"
    },
    "colab": {
      "provenance": []
    }
  },
  "nbformat": 4,
  "nbformat_minor": 0
}